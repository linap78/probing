{
 "cells": [
  {
   "cell_type": "code",
   "execution_count": 1,
   "id": "c23667c9",
   "metadata": {},
   "outputs": [
    {
     "name": "stderr",
     "output_type": "stream",
     "text": [
      "C:\\Users\\Lenovo\\AppData\\Local\\Programs\\Python\\Python310\\lib\\site-packages\\tqdm\\auto.py:22: TqdmWarning: IProgress not found. Please update jupyter and ipywidgets. See https://ipywidgets.readthedocs.io/en/stable/user_install.html\n",
      "  from .autonotebook import tqdm as notebook_tqdm\n"
     ]
    }
   ],
   "source": [
    "import transformers\n",
    "from transformers import pipeline\n",
    "import pandas as pd\n",
    "import spacy\n",
    "from operator import itemgetter"
   ]
  },
  {
   "cell_type": "code",
   "execution_count": 2,
   "id": "8b8e88ef",
   "metadata": {},
   "outputs": [
    {
     "name": "stderr",
     "output_type": "stream",
     "text": [
      "Some weights of the model checkpoint at bert-base-multilingual-cased were not used when initializing BertForMaskedLM: ['cls.seq_relationship.weight', 'cls.seq_relationship.bias']\n",
      "- This IS expected if you are initializing BertForMaskedLM from the checkpoint of a model trained on another task or with another architecture (e.g. initializing a BertForSequenceClassification model from a BertForPreTraining model).\n",
      "- This IS NOT expected if you are initializing BertForMaskedLM from the checkpoint of a model that you expect to be exactly identical (initializing a BertForSequenceClassification model from a BertForSequenceClassification model).\n"
     ]
    }
   ],
   "source": [
    "classifier = pipeline(task = \"fill-mask\", model = 'bert-base-multilingual-cased')"
   ]
  },
  {
   "cell_type": "code",
   "execution_count": 4,
   "id": "293dc242",
   "metadata": {},
   "outputs": [],
   "source": [
    "from spacy.lang.en import English\n",
    "nlp = English()\n",
    "# Create a Tokenizer with the default settings for English\n",
    "# including punctuation rules and exceptions\n",
    "tokenizer = nlp.tokenizer"
   ]
  },
  {
   "cell_type": "code",
   "execution_count": 16,
   "id": "09f79db8",
   "metadata": {},
   "outputs": [],
   "source": [
    "def masking(row):\n",
    "    all_scores = []\n",
    "    for i in range(len(row)): # каждое немаск предложение\n",
    "        score = []\n",
    "        sent = list(tokenizer(row[i]))\n",
    "        len_sent = len(sent)\n",
    "        for j in range(len_sent): # каждое маск предложение\n",
    "    #         sent_id.append(i)\n",
    "            sent_list = [str(word) for word in sent]\n",
    "            masked = sent_list[j]\n",
    "            sent_list[j] = \"[MASK]\"\n",
    "            sent_list = \" \".join(word for word in sent_list)\n",
    "            for pred_token in classifier(sent_list):\n",
    "                print(pred_token['token_str'], masked)\n",
    "                if pred_token['token_str'] == masked:\n",
    "                    score.append(pred_token['score'])\n",
    "            print(score)\n",
    "        all_scores.append(sum(score) / len_sent)\n",
    "    return all_scores\n",
    "\n",
    "df = pd.read_csv(\"realec - discourse.tsv\", delimiter = \"\\t\")\n",
    "\n",
    "all_score_good = masking(df[\"texts_good\"])\n",
    "all_score_bad = masking(df[\"texts_bad\"][:1000])\n",
    "\n",
    "gold = []\n",
    "result = []\n",
    "for i in range(len(all_score_good[:1000])):\n",
    "    gold.append(1)\n",
    "    if all_score_good[i] > all_score_bad[i]:\n",
    "        result.append(1)\n",
    "    else:\n",
    "        result.append(0)"
   ]
  },
  {
   "cell_type": "code",
   "execution_count": 37,
   "id": "09f6c7f5",
   "metadata": {},
   "outputs": [],
   "source": [
    "from sklearn.metrics import accuracy_score"
   ]
  },
  {
   "cell_type": "code",
   "execution_count": 38,
   "id": "938e4588",
   "metadata": {},
   "outputs": [
    {
     "name": "stdout",
     "output_type": "stream",
     "text": [
      "Accuracy: 0.6800\n"
     ]
    }
   ],
   "source": [
    "print(\"Accuracy: %.4f\" % accuracy_score(result, gold))"
   ]
  }
 ],
 "metadata": {
  "kernelspec": {
   "display_name": "Python 3 (ipykernel)",
   "language": "python",
   "name": "python3"
  },
  "language_info": {
   "codemirror_mode": {
    "name": "ipython",
    "version": 3
   },
   "file_extension": ".py",
   "mimetype": "text/x-python",
   "name": "python",
   "nbconvert_exporter": "python",
   "pygments_lexer": "ipython3",
   "version": "3.10.5"
  }
 },
 "nbformat": 4,
 "nbformat_minor": 5
}
